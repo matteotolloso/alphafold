{
 "cells": [
  {
   "cell_type": "code",
   "execution_count": 11,
   "metadata": {},
   "outputs": [
    {
     "data": {
      "text/plain": [
       "dict_keys(['NM_000517.6', 'NM_000518.5', 'NM_000558.5', 'NM_005368.3', 'NM_134268.5', 'NM_001003938.4'])"
      ]
     },
     "execution_count": 11,
     "metadata": {},
     "output_type": "execute_result"
    }
   ],
   "source": [
    "import json\n",
    "\n",
    "seqs = json.load(open('dataset/globins.json'))\n",
    "\n",
    "seqs.keys()"
   ]
  },
  {
   "cell_type": "code",
   "execution_count": 15,
   "metadata": {},
   "outputs": [
    {
     "name": "stdout",
     "output_type": "stream",
     "text": [
      "NM_000517.6 192.0\n",
      "NM_000518.5 209.33333333333334\n",
      "NM_000558.5 192.33333333333334\n",
      "NM_005368.3 356.6666666666667\n",
      "NM_134268.5 654.0\n",
      "NM_001003938.4 167.33333333333334\n"
     ]
    }
   ],
   "source": [
    "for key in seqs.keys():\n",
    "    print(key, len(seqs[key]['sequence']) / 3)\n"
   ]
  }
 ],
 "metadata": {
  "kernelspec": {
   "display_name": "bioemb4",
   "language": "python",
   "name": "python3"
  },
  "language_info": {
   "codemirror_mode": {
    "name": "ipython",
    "version": 3
   },
   "file_extension": ".py",
   "mimetype": "text/x-python",
   "name": "python",
   "nbconvert_exporter": "python",
   "pygments_lexer": "ipython3",
   "version": "3.10.10"
  },
  "orig_nbformat": 4
 },
 "nbformat": 4,
 "nbformat_minor": 2
}
