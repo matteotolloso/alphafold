{
 "cells": [
  {
   "cell_type": "code",
   "execution_count": 19,
   "metadata": {},
   "outputs": [
    {
     "data": {
      "text/plain": [
       "dict_keys(['sp|O43257|ZNHI1_HUMAN', 'sp|Q9Y225|RNF24_HUMAN', 'sp|Q9Y3C5|RNF11_HUMAN', 'sp|P09234|RU1C_HUMAN', 'sp|P38936|CDN1A_HUMAN', 'sp|Q8TBK6|ZCH10_HUMAN', 'sp|P60321|NANO2_HUMAN', 'sp|P61927|RL37_HUMAN', 'sp|Q9UK33|ZN580_HUMAN', 'sp|Q6NZ36|FAP20_HUMAN', 'sp|O00488|ZN593_HUMAN', 'sp|P42677|RS27_HUMAN', 'sp|Q96D59|RN183_HUMAN', 'sp|Q9NYG5|APC11_HUMAN', 'sp|Q9Y2Y1|RPC10_HUMAN', 'sp|Q96GF1|RN185_HUMAN', 'sp|P63272|SPT4H_HUMAN', 'sp|Q15649|ZNHI3_HUMAN', 'sp|P36954|RPB9_HUMAN', 'sp|Q9P0T4|ZN581_HUMAN', 'sp|P61513|RL37A_HUMAN', 'sp|Q9H2H0|CXXC4_HUMAN', 'sp|Q9UDW3|ZMAT5_HUMAN', 'sp|P60323|NANO3_HUMAN', 'sp|Q9HAJ7|SP30L_HUMAN', 'sp|P78317|RNF4_HUMAN', 'sp|Q8N9Q2|SR1IP_HUMAN', 'sp|Q96NC0|ZMAT2_HUMAN', 'sp|Q71UM5|RS27L_HUMAN', 'sp|P62877|RBX1_HUMAN', 'sp|Q19AV6|ZSWM7_HUMAN', 'sp|Q9P1U0|RPA12_HUMAN', 'sp|Q9H9V4|RN122_HUMAN', 'sp|P53803|RPAB4_HUMAN', 'sp|Q99942|RNF5_HUMAN', 'sp|Q9P0P0|RN181_HUMAN', 'sp|Q8IY57|YAF2_HUMAN', 'sp|P79522|PRR3_HUMAN', 'sp|P62979|RS27A_HUMAN', 'sp|P62633|CNBP_HUMAN', 'sp|Q9UBF6|RBX2_HUMAN'])"
      ]
     },
     "execution_count": 19,
     "metadata": {},
     "output_type": "execute_result"
    }
   ],
   "source": [
    "import json\n",
    "import numpy as np\n",
    "seqs = json.load(open('dataset/proteins.json'))\n",
    "\n",
    "seqs.keys()"
   ]
  },
  {
   "cell_type": "code",
   "execution_count": 20,
   "metadata": {},
   "outputs": [
    {
     "data": {
      "text/plain": [
       "dict_keys(['sequence', 'rep', 'dnabert', 'prose'])"
      ]
     },
     "execution_count": 20,
     "metadata": {},
     "output_type": "execute_result"
    }
   ],
   "source": [
    "seqs['sp|O00488|ZN593_HUMAN'].keys()"
   ]
  },
  {
   "cell_type": "code",
   "execution_count": 21,
   "metadata": {},
   "outputs": [
    {
     "name": "stdout",
     "output_type": "stream",
     "text": [
      "sp|O43257|ZNHI1_HUMAN 51.333333333333336\n",
      "sp|Q9Y225|RNF24_HUMAN 49.333333333333336\n",
      "sp|Q9Y3C5|RNF11_HUMAN 51.333333333333336\n",
      "sp|P09234|RU1C_HUMAN 53.0\n",
      "sp|P38936|CDN1A_HUMAN 54.666666666666664\n",
      "sp|Q8TBK6|ZCH10_HUMAN 64.0\n",
      "sp|P60321|NANO2_HUMAN 46.0\n",
      "sp|P61927|RL37_HUMAN 32.333333333333336\n",
      "sp|Q9UK33|ZN580_HUMAN 57.333333333333336\n",
      "sp|Q6NZ36|FAP20_HUMAN 60.0\n",
      "sp|O00488|ZN593_HUMAN 44.666666666666664\n",
      "sp|P42677|RS27_HUMAN 28.0\n",
      "sp|Q96D59|RN183_HUMAN 64.0\n",
      "sp|Q9NYG5|APC11_HUMAN 28.0\n",
      "sp|Q9Y2Y1|RPC10_HUMAN 36.0\n",
      "sp|Q96GF1|RN185_HUMAN 64.0\n",
      "sp|P63272|SPT4H_HUMAN 39.0\n",
      "sp|Q15649|ZNHI3_HUMAN 51.666666666666664\n",
      "sp|P36954|RPB9_HUMAN 41.666666666666664\n",
      "sp|Q9P0T4|ZN581_HUMAN 65.66666666666667\n",
      "sp|P61513|RL37A_HUMAN 30.666666666666668\n",
      "sp|Q9H2H0|CXXC4_HUMAN 66.0\n",
      "sp|Q9UDW3|ZMAT5_HUMAN 56.666666666666664\n",
      "sp|P60323|NANO3_HUMAN 57.666666666666664\n",
      "sp|Q9HAJ7|SP30L_HUMAN 61.0\n",
      "sp|P78317|RNF4_HUMAN 63.333333333333336\n",
      "sp|Q8N9Q2|SR1IP_HUMAN 51.666666666666664\n",
      "sp|Q96NC0|ZMAT2_HUMAN 66.33333333333333\n",
      "sp|Q71UM5|RS27L_HUMAN 28.0\n",
      "sp|P62877|RBX1_HUMAN 36.0\n",
      "sp|Q19AV6|ZSWM7_HUMAN 46.666666666666664\n",
      "sp|Q9P1U0|RPA12_HUMAN 42.0\n",
      "sp|Q9H9V4|RN122_HUMAN 51.666666666666664\n",
      "sp|P53803|RPAB4_HUMAN 19.333333333333332\n",
      "sp|Q99942|RNF5_HUMAN 60.0\n",
      "sp|Q9P0P0|RN181_HUMAN 51.0\n",
      "sp|Q8IY57|YAF2_HUMAN 60.0\n",
      "sp|P79522|PRR3_HUMAN 62.666666666666664\n",
      "sp|P62979|RS27A_HUMAN 52.0\n",
      "sp|P62633|CNBP_HUMAN 59.0\n",
      "sp|Q9UBF6|RBX2_HUMAN 37.666666666666664\n"
     ]
    }
   ],
   "source": [
    "for key in seqs.keys():\n",
    "    try:\n",
    "        print(key, len(seqs[key]['sequence'])/3, np.array(seqs[key]['alphafold']).shape)\n",
    "    except:\n",
    "        print(key, len(seqs[key]['sequence'])/3)\n"
   ]
  }
 ],
 "metadata": {
  "kernelspec": {
   "display_name": "bioemb4",
   "language": "python",
   "name": "python3"
  },
  "language_info": {
   "codemirror_mode": {
    "name": "ipython",
    "version": 3
   },
   "file_extension": ".py",
   "mimetype": "text/x-python",
   "name": "python",
   "nbconvert_exporter": "python",
   "pygments_lexer": "ipython3",
   "version": "3.10.10"
  },
  "orig_nbformat": 4
 },
 "nbformat": 4,
 "nbformat_minor": 2
}
